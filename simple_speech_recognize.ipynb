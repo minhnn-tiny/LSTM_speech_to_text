{
 "cells": [
  {
   "cell_type": "code",
   "execution_count": 5,
   "metadata": {},
   "outputs": [],
   "source": [
    "# importing all the dependencies\n",
    "import pandas as pd # data frame\n",
    "import numpy as np # matrix math\n",
    "from glob import glob # file handling\n",
    "import librosa # audio manipulation\n",
    "from sklearn.utils import shuffle # shuffling of data\n",
    "import os # interation with the OS\n",
    "from random import sample # random selection\n",
    "from tqdm import tqdm\n",
    "from scipy import signal # audio processing\n",
    "from scipy.io import wavfile # reading the wavfile"
   ]
  },
  {
   "cell_type": "code",
   "execution_count": 6,
   "metadata": {},
   "outputs": [],
   "source": [
    "# fixed param\n",
    "PATH = './input/train/audio/'"
   ]
  },
  {
   "cell_type": "code",
   "execution_count": 7,
   "metadata": {},
   "outputs": [],
   "source": [
    "def load_files(path):\n",
    "    # write the complete file loading function here, this will return\n",
    "    # a dataframe having files and labels\n",
    "    # loading the files\n",
    "    train_labels = os.listdir(PATH)\n",
    "    train_labels.remove('_background_noise_')\n",
    "    train_labels.remove('LICENSE')\n",
    "    train_labels.remove('README.md')\n",
    "    train_labels.remove('testing_list.txt')\n",
    "    train_labels.remove('validation_list.txt')\n",
    "    \n",
    "    \n",
    "    labels_to_keep = ['on', 'off', '_background_noise_']\n",
    "\n",
    "    train_file_labels = dict()\n",
    "    for label in train_labels:\n",
    "        files = os.listdir(PATH + '/' + label)\n",
    "        for f in files:\n",
    "            train_file_labels[label + '/' + f] = label\n",
    "\n",
    "    train = pd.DataFrame.from_dict(train_file_labels, orient='index')\n",
    "    train = train.reset_index(drop=False)\n",
    "    train = train.rename(columns={'index': 'file', 0: 'folder'})\n",
    "    train = train[['folder', 'file']]\n",
    "    train = train.sort_values('file')\n",
    "    train = train.reset_index(drop=True)\n",
    "\n",
    "    def remove_label_from_file(label, fname):\n",
    "        return path + label + '/' + fname[len(label)+1:]\n",
    "\n",
    "    train['file'] = train.apply(lambda x: remove_label_from_file(*x), axis=1)\n",
    "    train['label'] = train['folder'].apply(lambda x: x if x in labels_to_keep else 'unknown')\n",
    "\n",
    "    labels_to_keep.append('unknown')\n",
    "\n",
    "    return train, labels_to_keep"
   ]
  },
  {
   "cell_type": "code",
   "execution_count": 12,
   "metadata": {},
   "outputs": [],
   "source": [
    "files = os.listdir(PATH + '/' + 'on')"
   ]
  },
  {
   "cell_type": "code",
   "execution_count": 19,
   "metadata": {},
   "outputs": [
    {
     "data": {
      "text/plain": [
       "array(['./input/train/audio/on/004ae714_nohash_0.wav',\n",
       "       './input/train/audio/on/004ae714_nohash_1.wav',\n",
       "       './input/train/audio/on/00b01445_nohash_0.wav',\n",
       "       './input/train/audio/on/01b4757a_nohash_0.wav',\n",
       "       './input/train/audio/on/01bb6a2a_nohash_0.wav',\n",
       "       './input/train/audio/on/01bcfc0c_nohash_0.wav',\n",
       "       './input/train/audio/on/01bcfc0c_nohash_1.wav',\n",
       "       './input/train/audio/on/02ade946_nohash_0.wav',\n",
       "       './input/train/audio/on/02ade946_nohash_1.wav',\n",
       "       './input/train/audio/on/02ade946_nohash_2.wav',\n",
       "       './input/train/audio/on/02ade946_nohash_3.wav',\n",
       "       './input/train/audio/on/02ade946_nohash_4.wav',\n",
       "       './input/train/audio/on/02e85b60_nohash_0.wav',\n",
       "       './input/train/audio/on/02e85b60_nohash_1.wav',\n",
       "       './input/train/audio/on/03c96658_nohash_0.wav',\n",
       "       './input/train/audio/on/05b2db80_nohash_0.wav',\n",
       "       './input/train/audio/on/0a196374_nohash_0.wav',\n",
       "       './input/train/audio/on/0a196374_nohash_1.wav',\n",
       "       './input/train/audio/on/0a196374_nohash_2.wav',\n",
       "       './input/train/audio/on/0a2b400e_nohash_0.wav',\n",
       "       './input/train/audio/on/0a2b400e_nohash_1.wav',\n",
       "       './input/train/audio/on/0a5636ca_nohash_0.wav',\n",
       "       './input/train/audio/on/0a5636ca_nohash_1.wav',\n",
       "       './input/train/audio/on/0a5636ca_nohash_2.wav',\n",
       "       './input/train/audio/on/0a7c2a8d_nohash_0.wav',\n",
       "       './input/train/audio/on/0a9f9af7_nohash_0.wav',\n",
       "       './input/train/audio/on/0a9f9af7_nohash_1.wav',\n",
       "       './input/train/audio/on/0ac15fe9_nohash_0.wav',\n",
       "       './input/train/audio/on/0ac15fe9_nohash_1.wav',\n",
       "       './input/train/audio/on/0ac15fe9_nohash_2.wav',\n",
       "       './input/train/audio/on/0b09edd3_nohash_0.wav',\n",
       "       './input/train/audio/on/0b09edd3_nohash_1.wav',\n",
       "       './input/train/audio/on/0b40aa8e_nohash_0.wav',\n",
       "       './input/train/audio/on/0b56bcfe_nohash_0.wav',\n",
       "       './input/train/audio/on/0b57a6ed_nohash_0.wav',\n",
       "       './input/train/audio/on/0b7ee1a0_nohash_0.wav',\n",
       "       './input/train/audio/on/0b7ee1a0_nohash_1.wav',\n",
       "       './input/train/audio/on/0b7ee1a0_nohash_2.wav',\n",
       "       './input/train/audio/on/0ba018fc_nohash_0.wav',\n",
       "       './input/train/audio/on/0ba018fc_nohash_1.wav',\n",
       "       './input/train/audio/on/0ba018fc_nohash_2.wav',\n",
       "       './input/train/audio/on/0ba018fc_nohash_3.wav',\n",
       "       './input/train/audio/on/0ba018fc_nohash_4.wav',\n",
       "       './input/train/audio/on/0bfec55f_nohash_0.wav',\n",
       "       './input/train/audio/on/0c09f202_nohash_0.wav',\n",
       "       './input/train/audio/on/0c2ca723_nohash_0.wav',\n",
       "       './input/train/audio/on/0c2d2ffa_nohash_0.wav',\n",
       "       './input/train/audio/on/0c5027de_nohash_0.wav',\n",
       "       './input/train/audio/on/0cb74144_nohash_0.wav',\n",
       "       './input/train/audio/on/0cb74144_nohash_1.wav',\n",
       "       './input/train/audio/on/0cb74144_nohash_2.wav',\n",
       "       './input/train/audio/on/0cb74144_nohash_3.wav',\n",
       "       './input/train/audio/on/0cd323ec_nohash_0.wav',\n",
       "       './input/train/audio/on/0cd323ec_nohash_1.wav',\n",
       "       './input/train/audio/on/0d2bcf9d_nohash_0.wav',\n",
       "       './input/train/audio/on/0d2bcf9d_nohash_1.wav',\n",
       "       './input/train/audio/on/0d393936_nohash_0.wav',\n",
       "       './input/train/audio/on/0d6d7360_nohash_0.wav',\n",
       "       './input/train/audio/on/0d6d7360_nohash_1.wav',\n",
       "       './input/train/audio/on/0d6d7360_nohash_2.wav',\n",
       "       './input/train/audio/on/0d6d7360_nohash_3.wav',\n",
       "       './input/train/audio/on/0d6d7360_nohash_4.wav',\n",
       "       './input/train/audio/on/0d82fd99_nohash_0.wav',\n",
       "       './input/train/audio/on/0d82fd99_nohash_1.wav',\n",
       "       './input/train/audio/on/0d82fd99_nohash_2.wav',\n",
       "       './input/train/audio/on/0d82fd99_nohash_3.wav',\n",
       "       './input/train/audio/on/0d85a428_nohash_0.wav',\n",
       "       './input/train/audio/on/0d85a428_nohash_1.wav',\n",
       "       './input/train/audio/on/0d90d8e1_nohash_0.wav',\n",
       "       './input/train/audio/on/0d90d8e1_nohash_1.wav',\n",
       "       './input/train/audio/on/0d90d8e1_nohash_2.wav',\n",
       "       './input/train/audio/on/0d90d8e1_nohash_3.wav',\n",
       "       './input/train/audio/on/0e17f595_nohash_0.wav',\n",
       "       './input/train/audio/on/0e5193e6_nohash_0.wav',\n",
       "       './input/train/audio/on/0e6e36c9_nohash_0.wav',\n",
       "       './input/train/audio/on/0e6e36c9_nohash_1.wav',\n",
       "       './input/train/audio/on/0e6e36c9_nohash_2.wav',\n",
       "       './input/train/audio/on/0e6e36c9_nohash_3.wav',\n",
       "       './input/train/audio/on/0ea0e2f4_nohash_0.wav',\n",
       "       './input/train/audio/on/0ea9c8ce_nohash_0.wav',\n",
       "       './input/train/audio/on/0ea9c8ce_nohash_1.wav',\n",
       "       './input/train/audio/on/0ea9c8ce_nohash_2.wav',\n",
       "       './input/train/audio/on/0ea9c8ce_nohash_3.wav',\n",
       "       './input/train/audio/on/0f3f64d5_nohash_0.wav',\n",
       "       './input/train/audio/on/0f3f64d5_nohash_1.wav',\n",
       "       './input/train/audio/on/0f46028a_nohash_0.wav',\n",
       "       './input/train/audio/on/0f46028a_nohash_1.wav',\n",
       "       './input/train/audio/on/0f46028a_nohash_2.wav',\n",
       "       './input/train/audio/on/0f46028a_nohash_3.wav',\n",
       "       './input/train/audio/on/0f7205ef_nohash_0.wav',\n",
       "       './input/train/audio/on/0f7205ef_nohash_1.wav',\n",
       "       './input/train/audio/on/0f7266cf_nohash_0.wav',\n",
       "       './input/train/audio/on/0f7266cf_nohash_1.wav',\n",
       "       './input/train/audio/on/0f7266cf_nohash_2.wav',\n",
       "       './input/train/audio/on/0f7266cf_nohash_3.wav',\n",
       "       './input/train/audio/on/0f7266cf_nohash_4.wav',\n",
       "       './input/train/audio/on/0fa1e7a9_nohash_0.wav',\n",
       "       './input/train/audio/on/0ff728b5_nohash_0.wav',\n",
       "       './input/train/audio/on/0ff728b5_nohash_1.wav',\n",
       "       './input/train/audio/on/0ff728b5_nohash_2.wav',\n",
       "       './input/train/audio/on/0ff728b5_nohash_3.wav',\n",
       "       './input/train/audio/on/1a073312_nohash_0.wav',\n",
       "       './input/train/audio/on/1a073312_nohash_1.wav',\n",
       "       './input/train/audio/on/1a0f9c63_nohash_0.wav',\n",
       "       './input/train/audio/on/1a4259c3_nohash_0.wav',\n",
       "       './input/train/audio/on/1a4259c3_nohash_1.wav',\n",
       "       './input/train/audio/on/1a5b9ca4_nohash_0.wav',\n",
       "       './input/train/audio/on/1a5b9ca4_nohash_1.wav',\n",
       "       './input/train/audio/on/1a673010_nohash_0.wav',\n",
       "       './input/train/audio/on/1a892463_nohash_0.wav',\n",
       "       './input/train/audio/on/1a892463_nohash_1.wav',\n",
       "       './input/train/audio/on/1a994c9f_nohash_0.wav',\n",
       "       './input/train/audio/on/1a994c9f_nohash_1.wav',\n",
       "       './input/train/audio/on/1a994c9f_nohash_2.wav',\n",
       "       './input/train/audio/on/1a994c9f_nohash_3.wav',\n",
       "       './input/train/audio/on/1a9afd33_nohash_0.wav',\n",
       "       './input/train/audio/on/1acc97de_nohash_0.wav',\n",
       "       './input/train/audio/on/1acc97de_nohash_1.wav',\n",
       "       './input/train/audio/on/1acc97de_nohash_2.wav',\n",
       "       './input/train/audio/on/1aed7c6d_nohash_0.wav',\n",
       "       './input/train/audio/on/1aed7c6d_nohash_1.wav',\n",
       "       './input/train/audio/on/1aeef15e_nohash_0.wav',\n",
       "       './input/train/audio/on/1aeef15e_nohash_1.wav',\n",
       "       './input/train/audio/on/1afd49bf_nohash_0.wav',\n",
       "       './input/train/audio/on/1afd49bf_nohash_1.wav',\n",
       "       './input/train/audio/on/1afd49bf_nohash_2.wav',\n",
       "       './input/train/audio/on/1b18600d_nohash_0.wav',\n",
       "       './input/train/audio/on/1b18600d_nohash_1.wav',\n",
       "       './input/train/audio/on/1b42b551_nohash_0.wav',\n",
       "       './input/train/audio/on/1b42b551_nohash_1.wav',\n",
       "       './input/train/audio/on/1b42b551_nohash_2.wav',\n",
       "       './input/train/audio/on/1b459024_nohash_0.wav',\n",
       "       './input/train/audio/on/1b4c9b89_nohash_0.wav',\n",
       "       './input/train/audio/on/1b4c9b89_nohash_1.wav',\n",
       "       './input/train/audio/on/1b4c9b89_nohash_2.wav',\n",
       "       './input/train/audio/on/1b4c9b89_nohash_3.wav',\n",
       "       './input/train/audio/on/1b4c9b89_nohash_4.wav',\n",
       "       './input/train/audio/on/1b5ba788_nohash_0.wav',\n",
       "       './input/train/audio/on/1b627376_nohash_0.wav',\n",
       "       './input/train/audio/on/1b63157b_nohash_0.wav',\n",
       "       './input/train/audio/on/1b755c65_nohash_0.wav',\n",
       "       './input/train/audio/on/1b755c65_nohash_1.wav',\n",
       "       './input/train/audio/on/1b755c65_nohash_2.wav',\n",
       "       './input/train/audio/on/1b755c65_nohash_3.wav',\n",
       "       './input/train/audio/on/1b835b87_nohash_0.wav',\n",
       "       './input/train/audio/on/1b835b87_nohash_1.wav',\n",
       "       './input/train/audio/on/1b835b87_nohash_2.wav',\n",
       "       './input/train/audio/on/1b88bf70_nohash_0.wav',\n",
       "       './input/train/audio/on/1ba20be2_nohash_0.wav',\n",
       "       './input/train/audio/on/1bb574f9_nohash_0.wav',\n",
       "       './input/train/audio/on/1c1060b1_nohash_0.wav',\n",
       "       './input/train/audio/on/1c76f5f3_nohash_0.wav',\n",
       "       './input/train/audio/on/1c76f5f3_nohash_1.wav',\n",
       "       './input/train/audio/on/1c84a139_nohash_0.wav',\n",
       "       './input/train/audio/on/1c84a139_nohash_1.wav',\n",
       "       './input/train/audio/on/1c84a139_nohash_2.wav',\n",
       "       './input/train/audio/on/1cbcc7a7_nohash_0.wav',\n",
       "       './input/train/audio/on/1cbcc7a7_nohash_1.wav',\n",
       "       './input/train/audio/on/1cc80e39_nohash_0.wav',\n",
       "       './input/train/audio/on/1cec8d71_nohash_0.wav',\n",
       "       './input/train/audio/on/1d1fe0a0_nohash_0.wav',\n",
       "       './input/train/audio/on/1d1fe0a0_nohash_1.wav',\n",
       "       './input/train/audio/on/1daa5ada_nohash_0.wav',\n",
       "       './input/train/audio/on/1dc86f91_nohash_0.wav',\n",
       "       './input/train/audio/on/1dc86f91_nohash_1.wav',\n",
       "       './input/train/audio/on/1dc86f91_nohash_2.wav',\n",
       "       './input/train/audio/on/1dc86f91_nohash_3.wav',\n",
       "       './input/train/audio/on/1dc86f91_nohash_4.wav',\n",
       "       './input/train/audio/on/1dce06e8_nohash_0.wav',\n",
       "       './input/train/audio/on/1df99a8a_nohash_0.wav',\n",
       "       './input/train/audio/on/1df99a8a_nohash_1.wav',\n",
       "       './input/train/audio/on/1e02ffc5_nohash_0.wav',\n",
       "       './input/train/audio/on/1e02ffc5_nohash_1.wav',\n",
       "       './input/train/audio/on/1e02ffc5_nohash_2.wav',\n",
       "       './input/train/audio/on/1e31353f_nohash_0.wav',\n",
       "       './input/train/audio/on/1e412fac_nohash_0.wav',\n",
       "       './input/train/audio/on/1e412fac_nohash_1.wav',\n",
       "       './input/train/audio/on/1e9b215e_nohash_0.wav',\n",
       "       './input/train/audio/on/1e9e6bdd_nohash_0.wav',\n",
       "       './input/train/audio/on/1e9e6bdd_nohash_1.wav',\n",
       "       './input/train/audio/on/1e9e6bdd_nohash_2.wav',\n",
       "       './input/train/audio/on/1e9e6bdd_nohash_3.wav',\n",
       "       './input/train/audio/on/1e9e6bdd_nohash_4.wav',\n",
       "       './input/train/audio/on/1ecfb537_nohash_0.wav',\n",
       "       './input/train/audio/on/1ecfb537_nohash_1.wav',\n",
       "       './input/train/audio/on/1ecfb537_nohash_2.wav',\n",
       "       './input/train/audio/on/1ecfb537_nohash_3.wav',\n",
       "       './input/train/audio/on/1ecfb537_nohash_4.wav',\n",
       "       './input/train/audio/on/1ed0b13d_nohash_0.wav',\n",
       "       './input/train/audio/on/1ed0b13d_nohash_1.wav',\n",
       "       './input/train/audio/on/1ed0b13d_nohash_2.wav',\n",
       "       './input/train/audio/on/1ed0b13d_nohash_3.wav',\n",
       "       './input/train/audio/on/1ed0b13d_nohash_4.wav',\n",
       "       './input/train/audio/on/1f3bece8_nohash_0.wav',\n",
       "       './input/train/audio/on/1f3e4139_nohash_0.wav',\n",
       "       './input/train/audio/on/1f3e4139_nohash_1.wav',\n",
       "       './input/train/audio/on/1f653d27_nohash_0.wav',\n",
       "       './input/train/audio/on/1f653d27_nohash_1.wav',\n",
       "       './input/train/audio/on/1fd85ee4_nohash_0.wav',\n",
       "       './input/train/audio/on/1fe4c891_nohash_0.wav',\n",
       "       './input/train/audio/on/2a0b413e_nohash_0.wav',\n",
       "       './input/train/audio/on/2a1f4853_nohash_0.wav',\n",
       "       './input/train/audio/on/2a1f4853_nohash_1.wav',\n",
       "       './input/train/audio/on/2a1f4853_nohash_2.wav',\n",
       "       './input/train/audio/on/2a1f4853_nohash_3.wav',\n",
       "       './input/train/audio/on/2a1f4853_nohash_4.wav',\n",
       "       './input/train/audio/on/2a89ad5c_nohash_0.wav',\n",
       "       './input/train/audio/on/2a89ad5c_nohash_1.wav',\n",
       "       './input/train/audio/on/2a89ad5c_nohash_2.wav',\n",
       "       './input/train/audio/on/2aca1e72_nohash_0.wav',\n",
       "       './input/train/audio/on/2aca1e72_nohash_1.wav',\n",
       "       './input/train/audio/on/2aca1e72_nohash_2.wav',\n",
       "       './input/train/audio/on/2aca1e72_nohash_3.wav',\n",
       "       './input/train/audio/on/2aca1e72_nohash_4.wav',\n",
       "       './input/train/audio/on/2aca1e72_nohash_5.wav',\n",
       "       './input/train/audio/on/2ad772d6_nohash_0.wav',\n",
       "       './input/train/audio/on/2b1dffa7_nohash_0.wav',\n",
       "       './input/train/audio/on/2b3f509b_nohash_0.wav',\n",
       "       './input/train/audio/on/2b42e7a2_nohash_0.wav',\n",
       "       './input/train/audio/on/2b5e346d_nohash_0.wav',\n",
       "       './input/train/audio/on/2b5e346d_nohash_1.wav',\n",
       "       './input/train/audio/on/2b5e346d_nohash_2.wav',\n",
       "       './input/train/audio/on/2b5e346d_nohash_3.wav',\n",
       "       './input/train/audio/on/2bd2cad5_nohash_0.wav',\n",
       "       './input/train/audio/on/2bd2cad5_nohash_1.wav',\n",
       "       './input/train/audio/on/2bdbe5f7_nohash_0.wav',\n",
       "       './input/train/audio/on/2bdbe5f7_nohash_1.wav',\n",
       "       './input/train/audio/on/2bdbe5f7_nohash_2.wav',\n",
       "       './input/train/audio/on/2bdbe5f7_nohash_3.wav',\n",
       "       './input/train/audio/on/2be08ce4_nohash_0.wav',\n",
       "       './input/train/audio/on/2bfe70ef_nohash_0.wav',\n",
       "       './input/train/audio/on/2bfe70ef_nohash_1.wav',\n",
       "       './input/train/audio/on/2c6446f7_nohash_0.wav',\n",
       "       './input/train/audio/on/2c6d3924_nohash_0.wav',\n",
       "       './input/train/audio/on/2c7c33e8_nohash_0.wav',\n",
       "       './input/train/audio/on/2c7c33e8_nohash_1.wav',\n",
       "       './input/train/audio/on/2ce7534c_nohash_0.wav',\n",
       "       './input/train/audio/on/2cf28b70_nohash_0.wav',\n",
       "       './input/train/audio/on/2d3c8dcb_nohash_0.wav',\n",
       "       './input/train/audio/on/2d92f18b_nohash_0.wav',\n",
       "       './input/train/audio/on/2da58b32_nohash_0.wav',\n",
       "       './input/train/audio/on/2da58b32_nohash_1.wav',\n",
       "       './input/train/audio/on/2da58b32_nohash_2.wav',\n",
       "       './input/train/audio/on/2da58b32_nohash_3.wav',\n",
       "       './input/train/audio/on/2da58b32_nohash_4.wav',\n",
       "       './input/train/audio/on/2dc4f05d_nohash_0.wav',\n",
       "       './input/train/audio/on/2dc4f05d_nohash_1.wav',\n",
       "       './input/train/audio/on/2dc4f05d_nohash_2.wav',\n",
       "       './input/train/audio/on/2dc4f05d_nohash_3.wav',\n",
       "       './input/train/audio/on/2dc4f05d_nohash_4.wav',\n",
       "       './input/train/audio/on/2dc4f05d_nohash_5.wav',\n",
       "       './input/train/audio/on/2df590cd_nohash_0.wav',\n",
       "       './input/train/audio/on/2e0d80f7_nohash_0.wav',\n",
       "       './input/train/audio/on/2e0d80f7_nohash_1.wav',\n",
       "       './input/train/audio/on/2e0d80f7_nohash_2.wav',\n",
       "       './input/train/audio/on/2e30f9a5_nohash_0.wav',\n",
       "       './input/train/audio/on/2e75d37a_nohash_0.wav',\n",
       "       './input/train/audio/on/2e75d37a_nohash_1.wav',\n",
       "       './input/train/audio/on/2e75d37a_nohash_2.wav',\n",
       "       './input/train/audio/on/2e75d37a_nohash_3.wav',\n",
       "       './input/train/audio/on/2e75d37a_nohash_4.wav',\n",
       "       './input/train/audio/on/2e75d37a_nohash_5.wav',\n",
       "       './input/train/audio/on/2f0a410b_nohash_0.wav',\n",
       "       './input/train/audio/on/2f0ce4d9_nohash_0.wav',\n",
       "       './input/train/audio/on/2f0ce4d9_nohash_1.wav',\n",
       "       './input/train/audio/on/2f0ce4d9_nohash_2.wav',\n",
       "       './input/train/audio/on/2f666bb2_nohash_0.wav',\n",
       "       './input/train/audio/on/2f813234_nohash_0.wav',\n",
       "       './input/train/audio/on/2f813234_nohash_1.wav',\n",
       "       './input/train/audio/on/2fa39636_nohash_0.wav',\n",
       "       './input/train/audio/on/2fcb6397_nohash_0.wav',\n",
       "       './input/train/audio/on/2fcb6397_nohash_1.wav',\n",
       "       './input/train/audio/on/2fcb6397_nohash_2.wav',\n",
       "       './input/train/audio/on/2fcb6397_nohash_3.wav',\n",
       "       './input/train/audio/on/2fee065a_nohash_0.wav',\n",
       "       './input/train/audio/on/2fee065a_nohash_1.wav',\n",
       "       './input/train/audio/on/2fee065a_nohash_2.wav',\n",
       "       './input/train/audio/on/2fee065a_nohash_3.wav',\n",
       "       './input/train/audio/on/2fee065a_nohash_4.wav',\n",
       "       './input/train/audio/on/3a33d3a4_nohash_0.wav',\n",
       "       './input/train/audio/on/3a33d3a4_nohash_1.wav',\n",
       "       './input/train/audio/on/3a3ee7ed_nohash_0.wav',\n",
       "       './input/train/audio/on/3a3ee7ed_nohash_1.wav',\n",
       "       './input/train/audio/on/3a3ee7ed_nohash_2.wav',\n",
       "       './input/train/audio/on/3a3ee7ed_nohash_3.wav',\n",
       "       './input/train/audio/on/3a53b856_nohash_0.wav',\n",
       "       './input/train/audio/on/3a53b856_nohash_1.wav',\n",
       "       './input/train/audio/on/3a69f765_nohash_0.wav',\n",
       "       './input/train/audio/on/3a69f765_nohash_1.wav',\n",
       "       './input/train/audio/on/3a69f765_nohash_2.wav',\n",
       "       './input/train/audio/on/3a69f765_nohash_3.wav',\n",
       "       './input/train/audio/on/3a69f765_nohash_4.wav',\n",
       "       './input/train/audio/on/3a789a0d_nohash_0.wav',\n",
       "       './input/train/audio/on/3a7d8872_nohash_0.wav',\n",
       "       './input/train/audio/on/3a7d8872_nohash_1.wav',\n",
       "       './input/train/audio/on/3a929277_nohash_0.wav',\n",
       "       './input/train/audio/on/3a929277_nohash_1.wav',\n",
       "       './input/train/audio/on/3a929277_nohash_2.wav',\n",
       "       './input/train/audio/on/3aa6f4e2_nohash_0.wav',\n",
       "       './input/train/audio/on/3ab9ba07_nohash_0.wav',\n",
       "       './input/train/audio/on/3ab9ba07_nohash_1.wav',\n",
       "       './input/train/audio/on/3ab9ba07_nohash_2.wav',\n",
       "       './input/train/audio/on/3ae5c04f_nohash_0.wav',\n",
       "       './input/train/audio/on/3ae5c04f_nohash_1.wav',\n",
       "       './input/train/audio/on/3b195250_nohash_0.wav',\n",
       "       './input/train/audio/on/3b195250_nohash_1.wav',\n",
       "       './input/train/audio/on/3b195250_nohash_2.wav',\n",
       "       './input/train/audio/on/3b195250_nohash_3.wav',\n",
       "       './input/train/audio/on/3b195250_nohash_4.wav',\n",
       "       './input/train/audio/on/3b3d2f59_nohash_0.wav',\n",
       "       './input/train/audio/on/3b3d2f59_nohash_1.wav',\n",
       "       './input/train/audio/on/3b3d2f59_nohash_2.wav',\n",
       "       './input/train/audio/on/3b3d2f59_nohash_3.wav',\n",
       "       './input/train/audio/on/3b3d2f59_nohash_4.wav',\n",
       "       './input/train/audio/on/3b4f8f24_nohash_0.wav',\n",
       "       './input/train/audio/on/3b4f8f24_nohash_1.wav',\n",
       "       './input/train/audio/on/3b4f8f24_nohash_2.wav',\n",
       "       './input/train/audio/on/3b4f8f24_nohash_3.wav',\n",
       "       './input/train/audio/on/3b7f817e_nohash_0.wav',\n",
       "       './input/train/audio/on/3b852f6f_nohash_0.wav',\n",
       "       './input/train/audio/on/3b852f6f_nohash_1.wav',\n",
       "       './input/train/audio/on/3bb68054_nohash_0.wav',\n",
       "       './input/train/audio/on/3bb68054_nohash_1.wav',\n",
       "       './input/train/audio/on/3bb68054_nohash_2.wav',\n",
       "       './input/train/audio/on/3bb68054_nohash_3.wav',\n",
       "       './input/train/audio/on/3bb68054_nohash_4.wav',\n",
       "       './input/train/audio/on/3bc21161_nohash_0.wav',\n",
       "       './input/train/audio/on/3bc21161_nohash_1.wav',\n",
       "       './input/train/audio/on/3bc21161_nohash_2.wav',\n",
       "       './input/train/audio/on/3bc21161_nohash_3.wav',\n",
       "       './input/train/audio/on/3bc21161_nohash_4.wav',\n",
       "       './input/train/audio/on/3bdf05d3_nohash_0.wav',\n",
       "       './input/train/audio/on/3bdf05d3_nohash_1.wav',\n",
       "       './input/train/audio/on/3bfd30e6_nohash_0.wav',\n",
       "       './input/train/audio/on/3bfd30e6_nohash_1.wav',\n",
       "       './input/train/audio/on/3bfd30e6_nohash_2.wav',\n",
       "       './input/train/audio/on/3bfd30e6_nohash_3.wav',\n",
       "       './input/train/audio/on/3bfd30e6_nohash_4.wav',\n",
       "       './input/train/audio/on/3c1e12cf_nohash_0.wav',\n",
       "       './input/train/audio/on/3c257192_nohash_0.wav',\n",
       "       './input/train/audio/on/3c257192_nohash_1.wav',\n",
       "       './input/train/audio/on/3c257192_nohash_2.wav',\n",
       "       './input/train/audio/on/3c257192_nohash_3.wav',\n",
       "       './input/train/audio/on/3c4aa5ef_nohash_0.wav',\n",
       "       './input/train/audio/on/3c4aa5ef_nohash_1.wav',\n",
       "       './input/train/audio/on/3c4aa5ef_nohash_2.wav',\n",
       "       './input/train/audio/on/3c4aa5ef_nohash_3.wav',\n",
       "       './input/train/audio/on/3c4aa5ef_nohash_4.wav',\n",
       "       './input/train/audio/on/3ca784ec_nohash_0.wav',\n",
       "       './input/train/audio/on/3cc595de_nohash_0.wav',\n",
       "       './input/train/audio/on/3cc595de_nohash_1.wav',\n",
       "       './input/train/audio/on/3cc595de_nohash_2.wav',\n",
       "       './input/train/audio/on/3cc595de_nohash_3.wav',\n",
       "       './input/train/audio/on/3cc595de_nohash_4.wav',\n",
       "       './input/train/audio/on/3cdecb0b_nohash_0.wav',\n",
       "       './input/train/audio/on/3ce4910e_nohash_0.wav',\n",
       "       './input/train/audio/on/3ce4910e_nohash_1.wav',\n",
       "       './input/train/audio/on/3ce4910e_nohash_2.wav',\n",
       "       './input/train/audio/on/3ce4910e_nohash_3.wav',\n",
       "       './input/train/audio/on/3ce4910e_nohash_4.wav',\n",
       "       './input/train/audio/on/3cfc6b3a_nohash_0.wav',\n",
       "       './input/train/audio/on/3d3ddaf8_nohash_0.wav',\n",
       "       './input/train/audio/on/3d53244b_nohash_0.wav',\n",
       "       './input/train/audio/on/3d53244b_nohash_1.wav',\n",
       "       './input/train/audio/on/3d53244b_nohash_2.wav',\n",
       "       './input/train/audio/on/3d53244b_nohash_3.wav',\n",
       "       './input/train/audio/on/3d53244b_nohash_4.wav',\n",
       "       './input/train/audio/on/3d794813_nohash_0.wav',\n",
       "       './input/train/audio/on/3d794813_nohash_1.wav',\n",
       "       './input/train/audio/on/3d794813_nohash_2.wav',\n",
       "       './input/train/audio/on/3d794813_nohash_3.wav',\n",
       "       './input/train/audio/on/3d86b69a_nohash_0.wav',\n",
       "       './input/train/audio/on/3d86b69a_nohash_1.wav',\n",
       "       './input/train/audio/on/3d9200b9_nohash_0.wav',\n",
       "       './input/train/audio/on/3d9bbe2d_nohash_0.wav',\n",
       "       './input/train/audio/on/3d9bbe2d_nohash_1.wav',\n",
       "       './input/train/audio/on/3d9bbe2d_nohash_2.wav',\n",
       "       './input/train/audio/on/3d9bbe2d_nohash_3.wav',\n",
       "       './input/train/audio/on/3df9a3d4_nohash_0.wav',\n",
       "       './input/train/audio/on/3dfd6c23_nohash_0.wav',\n",
       "       './input/train/audio/on/3e2ba5f7_nohash_0.wav',\n",
       "       './input/train/audio/on/3e2ba5f7_nohash_1.wav',\n",
       "       './input/train/audio/on/3e31dffe_nohash_0.wav',\n",
       "       './input/train/audio/on/3e31dffe_nohash_1.wav',\n",
       "       './input/train/audio/on/3e31dffe_nohash_2.wav',\n",
       "       './input/train/audio/on/3e31dffe_nohash_3.wav',\n",
       "       './input/train/audio/on/3e31dffe_nohash_4.wav',\n",
       "       './input/train/audio/on/3e3fa7fd_nohash_0.wav',\n",
       "       './input/train/audio/on/3e549219_nohash_0.wav',\n",
       "       './input/train/audio/on/3ed3e49a_nohash_0.wav',\n",
       "       './input/train/audio/on/3ed3e49a_nohash_1.wav',\n",
       "       './input/train/audio/on/3ee0fc39_nohash_0.wav',\n",
       "       './input/train/audio/on/3ee0fc39_nohash_1.wav',\n",
       "       './input/train/audio/on/3f339c33_nohash_0.wav',\n",
       "       './input/train/audio/on/3f45a0cf_nohash_0.wav',\n",
       "       './input/train/audio/on/3f45a0cf_nohash_1.wav',\n",
       "       './input/train/audio/on/3f45a0cf_nohash_2.wav',\n",
       "       './input/train/audio/on/3f45a0cf_nohash_3.wav',\n",
       "       './input/train/audio/on/3fb8c268_nohash_0.wav',\n",
       "       './input/train/audio/on/3fdafe25_nohash_0.wav',\n",
       "       './input/train/audio/on/3fdafe25_nohash_1.wav',\n",
       "       './input/train/audio/on/3ffa3457_nohash_0.wav',\n",
       "       './input/train/audio/on/4a0e2c16_nohash_0.wav',\n",
       "       './input/train/audio/on/4a1e736b_nohash_0.wav',\n",
       "       './input/train/audio/on/4a1e736b_nohash_1.wav',\n",
       "       './input/train/audio/on/4a1e736b_nohash_2.wav',\n",
       "       './input/train/audio/on/4a1e736b_nohash_3.wav',\n",
       "       './input/train/audio/on/4a4e28f1_nohash_0.wav',\n",
       "       './input/train/audio/on/4a671512_nohash_0.wav',\n",
       "       './input/train/audio/on/4abb2400_nohash_0.wav',\n",
       "       './input/train/audio/on/4b25f620_nohash_0.wav',\n",
       "       './input/train/audio/on/4b39347d_nohash_0.wav',\n",
       "       './input/train/audio/on/4b39347d_nohash_1.wav',\n",
       "       './input/train/audio/on/4bc2c2c5_nohash_0.wav',\n",
       "       './input/train/audio/on/4bc2c2c5_nohash_1.wav',\n",
       "       './input/train/audio/on/4bc2c2c5_nohash_2.wav',\n",
       "       './input/train/audio/on/4c3cddb8_nohash_0.wav',\n",
       "       './input/train/audio/on/4c3cddb8_nohash_1.wav',\n",
       "       './input/train/audio/on/4c3cddb8_nohash_2.wav',\n",
       "       './input/train/audio/on/4c3cddb8_nohash_3.wav',\n",
       "       './input/train/audio/on/4c3cddb8_nohash_4.wav',\n",
       "       './input/train/audio/on/4c6167ca_nohash_0.wav',\n",
       "       './input/train/audio/on/4c6167ca_nohash_1.wav',\n",
       "       './input/train/audio/on/4c6167ca_nohash_2.wav',\n",
       "       './input/train/audio/on/4c6167ca_nohash_3.wav',\n",
       "       './input/train/audio/on/4c6167ca_nohash_4.wav',\n",
       "       './input/train/audio/on/4c6167ca_nohash_5.wav',\n",
       "       './input/train/audio/on/4c6167ca_nohash_6.wav',\n",
       "       './input/train/audio/on/4c6944d6_nohash_0.wav',\n",
       "       './input/train/audio/on/4c6944d6_nohash_1.wav',\n",
       "       './input/train/audio/on/4c6944d6_nohash_2.wav',\n",
       "       './input/train/audio/on/4c6944d6_nohash_3.wav',\n",
       "       './input/train/audio/on/4c6944d6_nohash_4.wav',\n",
       "       './input/train/audio/on/4c6944d6_nohash_5.wav',\n",
       "       './input/train/audio/on/4c77947d_nohash_0.wav',\n",
       "       './input/train/audio/on/4c7c95de_nohash_0.wav',\n",
       "       './input/train/audio/on/4c7c95de_nohash_1.wav',\n",
       "       './input/train/audio/on/4c841771_nohash_0.wav',\n",
       "       './input/train/audio/on/4c841771_nohash_1.wav',\n",
       "       './input/train/audio/on/4cb874bb_nohash_0.wav',\n",
       "       './input/train/audio/on/4cee0c60_nohash_0.wav',\n",
       "       './input/train/audio/on/4cee0c60_nohash_1.wav',\n",
       "       './input/train/audio/on/4cee0c60_nohash_2.wav',\n",
       "       './input/train/audio/on/4cee0c60_nohash_3.wav',\n",
       "       './input/train/audio/on/4d4e17f5_nohash_0.wav',\n",
       "       './input/train/audio/on/4d4e17f5_nohash_1.wav',\n",
       "       './input/train/audio/on/4d4e17f5_nohash_2.wav',\n",
       "       './input/train/audio/on/4d9e07cf_nohash_0.wav',\n",
       "       './input/train/audio/on/4def68db_nohash_0.wav',\n",
       "       './input/train/audio/on/4def68db_nohash_1.wav',\n",
       "       './input/train/audio/on/4def68db_nohash_2.wav',\n",
       "       './input/train/audio/on/4e6902d0_nohash_0.wav',\n",
       "       './input/train/audio/on/4e6902d0_nohash_1.wav',\n",
       "       './input/train/audio/on/4e6902d0_nohash_2.wav',\n",
       "       './input/train/audio/on/4e6902d0_nohash_3.wav',\n",
       "       './input/train/audio/on/4e6902d0_nohash_4.wav',\n",
       "       './input/train/audio/on/4e8c5516_nohash_0.wav',\n",
       "       './input/train/audio/on/4e99c1b7_nohash_0.wav',\n",
       "       './input/train/audio/on/4e99c1b7_nohash_1.wav',\n",
       "       './input/train/audio/on/4e99c1b7_nohash_2.wav',\n",
       "       './input/train/audio/on/4f086393_nohash_0.wav',\n",
       "       './input/train/audio/on/4f086393_nohash_1.wav',\n",
       "       './input/train/audio/on/4f256313_nohash_0.wav',\n",
       "       './input/train/audio/on/4f2be90f_nohash_0.wav',\n",
       "       './input/train/audio/on/4f2be90f_nohash_1.wav',\n",
       "       './input/train/audio/on/4f2be90f_nohash_2.wav',\n",
       "       './input/train/audio/on/4f558007_nohash_0.wav',\n",
       "       './input/train/audio/on/4f5c0b28_nohash_0.wav',\n",
       "       './input/train/audio/on/4f5c0b28_nohash_1.wav',\n",
       "       './input/train/audio/on/4f5c0b28_nohash_2.wav',\n",
       "       './input/train/audio/on/4f8ef132_nohash_0.wav',\n",
       "       './input/train/audio/on/4f8ef132_nohash_1.wav',\n",
       "       './input/train/audio/on/4f8ef132_nohash_2.wav',\n",
       "       './input/train/audio/on/4fce7686_nohash_0.wav',\n",
       "       './input/train/audio/on/4fd1443e_nohash_0.wav',\n",
       "       './input/train/audio/on/4fd1443e_nohash_1.wav',\n",
       "       './input/train/audio/on/4fd1443e_nohash_2.wav',\n",
       "       './input/train/audio/on/5a0bc987_nohash_0.wav',\n",
       "       './input/train/audio/on/5a3712c9_nohash_0.wav',\n",
       "       './input/train/audio/on/5a3712c9_nohash_1.wav',\n",
       "       './input/train/audio/on/5a3712c9_nohash_2.wav',\n",
       "       './input/train/audio/on/5a5721f8_nohash_0.wav',\n",
       "       './input/train/audio/on/5a5721f8_nohash_1.wav',\n",
       "       './input/train/audio/on/5a5721f8_nohash_2.wav',\n",
       "       './input/train/audio/on/5a5721f8_nohash_3.wav',\n",
       "       './input/train/audio/on/5a5721f8_nohash_4.wav',\n",
       "       './input/train/audio/on/5a98d407_nohash_0.wav',\n",
       "       './input/train/audio/on/5a98d407_nohash_1.wav',\n",
       "       './input/train/audio/on/5aac2efa_nohash_0.wav',\n",
       "       './input/train/audio/on/5aac2efa_nohash_1.wav',\n",
       "       './input/train/audio/on/5aac2efa_nohash_2.wav',\n",
       "       './input/train/audio/on/5ab63b0a_nohash_0.wav',\n",
       "       './input/train/audio/on/5ab63b0a_nohash_1.wav',\n",
       "       './input/train/audio/on/5ac04a92_nohash_0.wav',\n",
       "       './input/train/audio/on/5af0ca83_nohash_0.wav',\n",
       "       './input/train/audio/on/5af0ca83_nohash_1.wav',\n",
       "       './input/train/audio/on/5b09db89_nohash_0.wav',\n",
       "       './input/train/audio/on/5b09db89_nohash_1.wav',\n",
       "       './input/train/audio/on/5b09db89_nohash_2.wav',\n",
       "       './input/train/audio/on/5b09db89_nohash_3.wav',\n",
       "       './input/train/audio/on/5b09db89_nohash_4.wav',\n",
       "       './input/train/audio/on/5b1db3ee_nohash_0.wav',\n",
       "       './input/train/audio/on/5b26c81b_nohash_0.wav',\n",
       "       './input/train/audio/on/5b32733e_nohash_0.wav',\n",
       "       './input/train/audio/on/5ba724a7_nohash_0.wav',\n",
       "       './input/train/audio/on/5ba724a7_nohash_1.wav',\n",
       "       './input/train/audio/on/5ba724a7_nohash_2.wav',\n",
       "       './input/train/audio/on/5be23def_nohash_0.wav',\n",
       "       './input/train/audio/on/5be23def_nohash_1.wav',\n",
       "       './input/train/audio/on/5c39594f_nohash_0.wav',\n",
       "       './input/train/audio/on/5c39594f_nohash_1.wav',\n",
       "       './input/train/audio/on/5c39594f_nohash_2.wav',\n",
       "       './input/train/audio/on/5c39594f_nohash_3.wav',\n",
       "       './input/train/audio/on/5c8af87a_nohash_0.wav',\n",
       "       './input/train/audio/on/5c8af87a_nohash_1.wav',\n",
       "       './input/train/audio/on/5c8af87a_nohash_2.wav',\n",
       "       './input/train/audio/on/5c8af87a_nohash_3.wav',\n",
       "       './input/train/audio/on/5c8af87a_nohash_4.wav',\n",
       "       './input/train/audio/on/5cf1ecce_nohash_0.wav',\n",
       "       './input/train/audio/on/5cf1ecce_nohash_1.wav',\n",
       "       './input/train/audio/on/5cf1ecce_nohash_2.wav',\n",
       "       './input/train/audio/on/5cf1ecce_nohash_3.wav',\n",
       "       './input/train/audio/on/5cf1ecce_nohash_4.wav',\n",
       "       './input/train/audio/on/5d0ab165_nohash_0.wav',\n",
       "       './input/train/audio/on/5d0ab165_nohash_1.wav',\n",
       "       './input/train/audio/on/5d4e3bb8_nohash_0.wav',\n",
       "       './input/train/audio/on/5d4e3bb8_nohash_1.wav',\n",
       "       './input/train/audio/on/5db0e146_nohash_0.wav'], dtype=object)"
      ]
     },
     "execution_count": 19,
     "metadata": {},
     "output_type": "execute_result"
    }
   ],
   "source": [
    "train, labels_to_keep = load_files(PATH)\n",
    "\n",
    "# making word2id dict\n",
    "word2id = dict((c,i) for i,c in enumerate(sorted(labels_to_keep)))\n",
    "\n",
    "# get some files which will be labeled as unknown\n",
    "unk_files = train.loc[train['label'] == 'unknown']['file'].values\n",
    "unk_files = sample(list(unk_files), 100)\n"
   ]
  },
  {
   "cell_type": "code",
   "execution_count": 20,
   "metadata": {},
   "outputs": [
    {
     "data": {
      "text/plain": [
       "['on', 'off', '_background_noise_', 'unknown']"
      ]
     },
     "execution_count": 20,
     "metadata": {},
     "output_type": "execute_result"
    }
   ],
   "source": [
    "labels_to_keep"
   ]
  },
  {
   "cell_type": "code",
   "execution_count": 21,
   "metadata": {},
   "outputs": [
    {
     "data": {
      "text/plain": [
       "{'_background_noise_': 0, 'off': 1, 'on': 2, 'unknown': 3}"
      ]
     },
     "execution_count": 21,
     "metadata": {},
     "output_type": "execute_result"
    }
   ],
   "source": [
    "word2id"
   ]
  },
  {
   "cell_type": "code",
   "execution_count": 22,
   "metadata": {},
   "outputs": [
    {
     "data": {
      "text/plain": [
       "array(['./input/train/audio/on/004ae714_nohash_0.wav',\n",
       "       './input/train/audio/on/004ae714_nohash_1.wav',\n",
       "       './input/train/audio/on/00b01445_nohash_0.wav',\n",
       "       './input/train/audio/on/01b4757a_nohash_0.wav',\n",
       "       './input/train/audio/on/01bb6a2a_nohash_0.wav',\n",
       "       './input/train/audio/on/01bcfc0c_nohash_0.wav',\n",
       "       './input/train/audio/on/01bcfc0c_nohash_1.wav',\n",
       "       './input/train/audio/on/02ade946_nohash_0.wav',\n",
       "       './input/train/audio/on/02ade946_nohash_1.wav',\n",
       "       './input/train/audio/on/02ade946_nohash_2.wav'], dtype=object)"
      ]
     },
     "execution_count": 22,
     "metadata": {},
     "output_type": "execute_result"
    }
   ],
   "source": [
    "unk_files[:10]"
   ]
  },
  {
   "cell_type": "code",
   "execution_count": 23,
   "metadata": {},
   "outputs": [
    {
     "data": {
      "text/html": [
       "<div>\n",
       "<style scoped>\n",
       "    .dataframe tbody tr th:only-of-type {\n",
       "        vertical-align: middle;\n",
       "    }\n",
       "\n",
       "    .dataframe tbody tr th {\n",
       "        vertical-align: top;\n",
       "    }\n",
       "\n",
       "    .dataframe thead th {\n",
       "        text-align: right;\n",
       "    }\n",
       "</style>\n",
       "<table border=\"1\" class=\"dataframe\">\n",
       "  <thead>\n",
       "    <tr style=\"text-align: right;\">\n",
       "      <th></th>\n",
       "      <th>folder</th>\n",
       "      <th>file</th>\n",
       "      <th>label</th>\n",
       "    </tr>\n",
       "  </thead>\n",
       "  <tbody>\n",
       "    <tr>\n",
       "      <th>14</th>\n",
       "      <td>off</td>\n",
       "      <td>./input/train/audio/off/02e85b60_nohash_0.wav</td>\n",
       "      <td>off</td>\n",
       "    </tr>\n",
       "    <tr>\n",
       "      <th>840</th>\n",
       "      <td>on</td>\n",
       "      <td>./input/train/audio/on/3d53244b_nohash_2.wav</td>\n",
       "      <td>on</td>\n",
       "    </tr>\n",
       "    <tr>\n",
       "      <th>888</th>\n",
       "      <td>on</td>\n",
       "      <td>./input/train/audio/on/4b39347d_nohash_1.wav</td>\n",
       "      <td>on</td>\n",
       "    </tr>\n",
       "    <tr>\n",
       "      <th>452</th>\n",
       "      <td>off</td>\n",
       "      <td>./input/train/audio/off/4e02d62d_nohash_2.wav</td>\n",
       "      <td>off</td>\n",
       "    </tr>\n",
       "    <tr>\n",
       "      <th>44</th>\n",
       "      <td>off</td>\n",
       "      <td>./input/train/audio/off/0bfec55f_nohash_0.wav</td>\n",
       "      <td>off</td>\n",
       "    </tr>\n",
       "    <tr>\n",
       "      <th>328</th>\n",
       "      <td>off</td>\n",
       "      <td>./input/train/audio/off/3bdf05d3_nohash_3.wav</td>\n",
       "      <td>off</td>\n",
       "    </tr>\n",
       "    <tr>\n",
       "      <th>628</th>\n",
       "      <td>on</td>\n",
       "      <td>./input/train/audio/on/1c76f5f3_nohash_1.wav</td>\n",
       "      <td>on</td>\n",
       "    </tr>\n",
       "    <tr>\n",
       "      <th>988</th>\n",
       "      <td>on</td>\n",
       "      <td>./input/train/audio/on/5c39594f_nohash_3.wav</td>\n",
       "      <td>on</td>\n",
       "    </tr>\n",
       "    <tr>\n",
       "      <th>604</th>\n",
       "      <td>on</td>\n",
       "      <td>./input/train/audio/on/1b42b551_nohash_0.wav</td>\n",
       "      <td>on</td>\n",
       "    </tr>\n",
       "    <tr>\n",
       "      <th>994</th>\n",
       "      <td>on</td>\n",
       "      <td>./input/train/audio/on/5cf1ecce_nohash_0.wav</td>\n",
       "      <td>on</td>\n",
       "    </tr>\n",
       "    <tr>\n",
       "      <th>798</th>\n",
       "      <td>on</td>\n",
       "      <td>./input/train/audio/on/3bb68054_nohash_1.wav</td>\n",
       "      <td>on</td>\n",
       "    </tr>\n",
       "    <tr>\n",
       "      <th>796</th>\n",
       "      <td>on</td>\n",
       "      <td>./input/train/audio/on/3b852f6f_nohash_1.wav</td>\n",
       "      <td>on</td>\n",
       "    </tr>\n",
       "  </tbody>\n",
       "</table>\n",
       "</div>"
      ],
      "text/plain": [
       "    folder                                           file label\n",
       "14     off  ./input/train/audio/off/02e85b60_nohash_0.wav   off\n",
       "840     on   ./input/train/audio/on/3d53244b_nohash_2.wav    on\n",
       "888     on   ./input/train/audio/on/4b39347d_nohash_1.wav    on\n",
       "452    off  ./input/train/audio/off/4e02d62d_nohash_2.wav   off\n",
       "44     off  ./input/train/audio/off/0bfec55f_nohash_0.wav   off\n",
       "328    off  ./input/train/audio/off/3bdf05d3_nohash_3.wav   off\n",
       "628     on   ./input/train/audio/on/1c76f5f3_nohash_1.wav    on\n",
       "988     on   ./input/train/audio/on/5c39594f_nohash_3.wav    on\n",
       "604     on   ./input/train/audio/on/1b42b551_nohash_0.wav    on\n",
       "994     on   ./input/train/audio/on/5cf1ecce_nohash_0.wav    on\n",
       "798     on   ./input/train/audio/on/3bb68054_nohash_1.wav    on\n",
       "796     on   ./input/train/audio/on/3b852f6f_nohash_1.wav    on"
      ]
     },
     "execution_count": 23,
     "metadata": {},
     "output_type": "execute_result"
    }
   ],
   "source": [
    "train.sample(12)"
   ]
  },
  {
   "cell_type": "code",
   "execution_count": 24,
   "metadata": {},
   "outputs": [
    {
     "name": "stdout",
     "output_type": "stream",
     "text": [
      "['./input/train/audio/_background_noise_/pink_noise.wav', './input/train/audio/_background_noise_/dude_miaowing.wav', './input/train/audio/_background_noise_/exercise_bike.wav', './input/train/audio/_background_noise_/doing_the_dishes.wav', './input/train/audio/_background_noise_/running_tap.wav', './input/train/audio/_background_noise_/white_noise.wav']\n"
     ]
    }
   ],
   "source": [
    "from glob import glob\n",
    "files = glob(PATH + '_bac*/*.wav')\n",
    "print(files)"
   ]
  },
  {
   "cell_type": "code",
   "execution_count": 25,
   "metadata": {},
   "outputs": [
    {
     "name": "stdout",
     "output_type": "stream",
     "text": [
      "60\n",
      "61\n",
      "61\n",
      "95\n",
      "61\n",
      "60\n",
      "392\n",
      "(16000,)\n",
      "(392, 16000)\n"
     ]
    },
    {
     "name": "stderr",
     "output_type": "stream",
     "text": [
      "/home/nguyenminh/.local/lib/python3.5/site-packages/scipy/io/wavfile.py:273: WavFileWarning: Chunk (non-data) not understood, skipping it.\n",
      "  WavFileWarning)\n"
     ]
    }
   ],
   "source": [
    "# silence background samples\n",
    "all_sil = []\n",
    "for s in files:\n",
    "    sr, audio = wavfile.read(s)\n",
    "    # converting the file into samples of 1 sec each\n",
    "    len_ = int(len(audio)/sr)\n",
    "    print(len_)\n",
    "    for i in range(len_-1):\n",
    "        sample_ = audio[i*sr:(i+1)*sr]\n",
    "        all_sil.append(sample_)\n",
    "print(len(all_sil))\n",
    "print(all_sil[0].shape)\n",
    "sil_data =  np.zeros((392, 16000, ))\n",
    "for i,d in enumerate(all_sil):\n",
    "    sil_data[i] = d\n",
    "print(sil_data.shape)"
   ]
  },
  {
   "cell_type": "code",
   "execution_count": 26,
   "metadata": {},
   "outputs": [],
   "source": [
    "# Writing functions to extract the data, script from kdnuggets: \n",
    "# www.kdnuggets.com/2016/09/urban-sound-classification-neural-networks-tensorflow.html\n",
    "def extract_feature(path):\n",
    "\tX, sample_rate = librosa.load(path)\n",
    "\tstft = np.abs(librosa.stft(X))\n",
    "\tmfccs = np.mean(librosa.feature.mfcc(y=X, sr=sample_rate, n_mfcc=40).T,axis=0)\n",
    "\tchroma = np.mean(librosa.feature.chroma_stft(S=stft, sr=sample_rate).T,axis=0)\n",
    "\tmel = np.mean(librosa.feature.melspectrogram(X, sr=sample_rate).T,axis=0)\n",
    "\tcontrast = np.mean(librosa.feature.spectral_contrast(S=stft, sr=sample_rate).T,axis=0)\n",
    "\ttonnetz = np.mean(librosa.feature.tonnetz(y=librosa.effects.harmonic(X), sr=sample_rate).T,axis=0)\n",
    "\treturn mfccs,chroma,mel,contrast,tonnetz\n",
    "\n",
    "def parse_audio_files(files, word2id, unk = False):\n",
    "    # n: number of classes\n",
    "    features = np.empty((0,193))\n",
    "    one_hot = np.zeros(shape = (len(files), word2id[max(word2id)]))\n",
    "    print(one_hot.shape)\n",
    "    for i in tqdm(range(len(files))):\n",
    "        f = files[i]\n",
    "        mfccs, chroma, mel, contrast,tonnetz = extract_feature(f)\n",
    "        ext_features = np.hstack([mfccs,chroma,mel,contrast,tonnetz])\n",
    "        features = np.vstack([features,ext_features])\n",
    "        if unk == True:\n",
    "            l = word2id['unknown']\n",
    "            one_hot[i][l] = 1.\n",
    "        else:\n",
    "            l = word2id[f.split('/')[-2]]\n",
    "            one_hot[i][l] = 1.\n",
    "    return np.array(features), one_hot"
   ]
  },
  {
   "cell_type": "code",
   "execution_count": 27,
   "metadata": {},
   "outputs": [
    {
     "name": "stdout",
     "output_type": "stream",
     "text": [
      "1004\n",
      "['./input/train/audio/off/004ae714_nohash_0.wav'\n",
      " './input/train/audio/off/004ae714_nohash_1.wav'\n",
      " './input/train/audio/off/00b01445_nohash_0.wav'\n",
      " './input/train/audio/off/01b4757a_nohash_0.wav'\n",
      " './input/train/audio/off/01bb6a2a_nohash_0.wav'\n",
      " './input/train/audio/off/01bb6a2a_nohash_1.wav'\n",
      " './input/train/audio/off/01bb6a2a_nohash_2.wav'\n",
      " './input/train/audio/off/01bcfc0c_nohash_0.wav'\n",
      " './input/train/audio/off/01d22d03_nohash_0.wav'\n",
      " './input/train/audio/off/02ade946_nohash_0.wav']\n"
     ]
    }
   ],
   "source": [
    "files = train.loc[train['label'] != 'unknown']['file'].values\n",
    "print(len(files))\n",
    "print(files[:10])"
   ]
  },
  {
   "cell_type": "code",
   "execution_count": 31,
   "metadata": {},
   "outputs": [],
   "source": [
    "# playing around with the data for now\n",
    "train_audio_path = './input/train/audio/'\n",
    "filename = '/off/0a5636ca_nohash_0.wav' # --> 'Yes'\n",
    "sample_rate, audio = wavfile.read(str(train_audio_path) + filename)"
   ]
  },
  {
   "cell_type": "code",
   "execution_count": 32,
   "metadata": {},
   "outputs": [
    {
     "data": {
      "text/html": [
       "\n",
       "                <audio controls=\"controls\" >\n",
       "                    <source src=\"data:audio/wav;base64,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\" type=\"audio/wav\" />\n",
       "                    Your browser does not support the audio element.\n",
       "                </audio>\n",
       "              "
      ],
      "text/plain": [
       "<IPython.lib.display.Audio object>"
      ]
     },
     "execution_count": 32,
     "metadata": {},
     "output_type": "execute_result"
    }
   ],
   "source": [
    "import matplotlib.pyplot as plt\n",
    "import IPython.display as ipd\n",
    "plt.figure(figsize = (15, 4))\n",
    "plt.plot(audio)\n",
    "ipd.Audio(audio, rate=sample_rate)"
   ]
  },
  {
   "cell_type": "code",
   "execution_count": 33,
   "metadata": {},
   "outputs": [],
   "source": [
    "# goto: https://medium.com/@ageitgey/machine-learning-is-fun-part-6-how-to-do-speech-recognition-with-deep-learning-28293c162f7a\n",
    "# We convert it into chunks of 20ms each i.e. units of 320 \n",
    "audio_chunks = []\n",
    "n_chunks = int(audio.shape[0]/320)\n",
    "for i in range(n_chunks):\n",
    "    chunk = audio[i*320: (i+1)*320]\n",
    "    audio_chunks.append(chunk)\n",
    "audio_chunk = np.array(audio_chunks)"
   ]
  },
  {
   "cell_type": "code",
   "execution_count": 34,
   "metadata": {},
   "outputs": [],
   "source": [
    "# we now convert it to spertogram\n",
    "# goto: https://www.kaggle.com/davids1992/data-visualization-and-investigation\n",
    "def log_specgram(audio, sample_rate, window_size=10,\n",
    "                 step_size=10, eps=1e-10):\n",
    "    nperseg = int(round(window_size * sample_rate / 1e3))\n",
    "    noverlap = int(round(step_size * sample_rate / 1e3))\n",
    "    _, _, spec = signal.spectrogram(audio,\n",
    "                                    fs=sample_rate,\n",
    "                                    window='hann',\n",
    "                                    nperseg=nperseg,\n",
    "                                    noverlap=noverlap,\n",
    "                                    detrend=False)\n",
    "    return np.log(spec.T.astype(np.float32) + eps)\n"
   ]
  },
  {
   "cell_type": "code",
   "execution_count": 35,
   "metadata": {},
   "outputs": [
    {
     "name": "stdout",
     "output_type": "stream",
     "text": [
      "(81, 100)\n"
     ]
    },
    {
     "data": {
      "text/plain": [
       "<matplotlib.image.AxesImage at 0x7f260bed3160>"
      ]
     },
     "execution_count": 35,
     "metadata": {},
     "output_type": "execute_result"
    },
    {
     "data": {
      "image/png": "[encoded data removed]",
      "text/plain": [
       "<Figure size 1080x288 with 1 Axes>"
      ]
     },
     "metadata": {
      "needs_background": "light"
     },
     "output_type": "display_data"
    }
   ],
   "source": [
    "spectrogram = log_specgram(audio, sample_rate, 10, 0)\n",
    "spec = spectrogram.T\n",
    "print(spec.shape)\n",
    "plt.figure(figsize = (15,4))\n",
    "plt.imshow(spec, aspect='auto', origin='lower')"
   ]
  },
  {
   "cell_type": "code",
   "execution_count": 36,
   "metadata": {},
   "outputs": [
    {
     "name": "stdout",
     "output_type": "stream",
     "text": [
      "['_background_noise_', 'off', 'on', 'unknown']\n"
     ]
    }
   ],
   "source": [
    "# make labels and convert them into one hot encodings\n",
    "labels = sorted(labels_to_keep)\n",
    "word2id = dict((c,i) for i,c in enumerate(labels))\n",
    "label = train['label'].values\n",
    "label = [word2id[l] for l in label]\n",
    "print(labels)\n",
    "def make_one_hot(seq, n):\n",
    "    # n --> vocab size\n",
    "    seq_new = np.zeros(shape = (len(seq), n))\n",
    "    for i,s in enumerate(seq):\n",
    "        seq_new[i][s] = 1.\n",
    "    return seq_new\n",
    "one_hot_l = make_one_hot(label, 12)"
   ]
  },
  {
   "cell_type": "code",
   "execution_count": 37,
   "metadata": {},
   "outputs": [
    {
     "name": "stdout",
     "output_type": "stream",
     "text": [
      "[[0. 1. 0. 0. 0. 0. 0. 0. 0. 0. 0. 0.]\n",
      " [0. 1. 0. 0. 0. 0. 0. 0. 0. 0. 0. 0.]\n",
      " [0. 1. 0. 0. 0. 0. 0. 0. 0. 0. 0. 0.]\n",
      " [0. 1. 0. 0. 0. 0. 0. 0. 0. 0. 0. 0.]\n",
      " [0. 1. 0. 0. 0. 0. 0. 0. 0. 0. 0. 0.]]\n"
     ]
    }
   ],
   "source": [
    "print(one_hot_l[10:15])"
   ]
  },
  {
   "cell_type": "code",
   "execution_count": 38,
   "metadata": {},
   "outputs": [],
   "source": [
    "# getting all the paths to the files\n",
    "paths = []\n",
    "folders = train['folder']\n",
    "files = train['file']\n",
    "for i in range(len(files)):\n",
    "    path = str(files[i])\n",
    "    paths.append(path)"
   ]
  },
  {
   "cell_type": "code",
   "execution_count": 39,
   "metadata": {},
   "outputs": [],
   "source": [
    "def audio_to_data(path):\n",
    "    # we take a single path and convert it into data\n",
    "    sample_rate, audio = wavfile.read(path)\n",
    "    spectrogram = log_specgram(audio, sample_rate, 10, 0)\n",
    "    return spectrogram.T\n",
    "\n",
    "def paths_to_data(paths,labels):\n",
    "    data = np.zeros(shape = (len(paths), 81, 100))\n",
    "    indexes = []\n",
    "    for i in tqdm(range(len(paths))):\n",
    "        audio = audio_to_data(paths[i])\n",
    "        if audio.shape != (81,100):\n",
    "            indexes.append(i)\n",
    "        else:\n",
    "            data[i] = audio\n",
    "    final_labels = [l for i,l in enumerate(labels) if i not in indexes]\n",
    "    print('Number of instances with inconsistent shape:', len(indexes))\n",
    "    return data[:len(data)-len(indexes)], final_labels, indexes"
   ]
  },
  {
   "cell_type": "code",
   "execution_count": 40,
   "metadata": {},
   "outputs": [
    {
     "name": "stderr",
     "output_type": "stream",
     "text": [
      "100%|██████████| 1004/1004 [00:06<00:00, 156.90it/s]"
     ]
    },
    {
     "name": "stdout",
     "output_type": "stream",
     "text": [
      "Number of instances with inconsistent shape: 106\n"
     ]
    },
    {
     "name": "stderr",
     "output_type": "stream",
     "text": [
      "\n"
     ]
    }
   ],
   "source": [
    "d,l,indexes = paths_to_data(paths,one_hot_l)"
   ]
  },
  {
   "cell_type": "code",
   "execution_count": 41,
   "metadata": {},
   "outputs": [
    {
     "name": "stdout",
     "output_type": "stream",
     "text": [
      "(898, 12)\n"
     ]
    }
   ],
   "source": [
    "labels = np.zeros(shape = [d.shape[0], len(l[0])])\n",
    "for i,array in enumerate(l):\n",
    "    for j, element in enumerate(array):\n",
    "        labels[i][j] = element\n",
    "print(labels.shape)"
   ]
  },
  {
   "cell_type": "code",
   "execution_count": 42,
   "metadata": {},
   "outputs": [
    {
     "name": "stdout",
     "output_type": "stream",
     "text": [
      "(898, 81, 100)\n",
      "(898, 12)\n"
     ]
    }
   ],
   "source": [
    "print(d.shape)\n",
    "print(labels.shape)"
   ]
  },
  {
   "cell_type": "code",
   "execution_count": 43,
   "metadata": {},
   "outputs": [],
   "source": [
    "d,labels = shuffle(d,labels)"
   ]
  },
  {
   "cell_type": "code",
   "execution_count": 70,
   "metadata": {},
   "outputs": [
    {
     "name": "stdout",
     "output_type": "stream",
     "text": [
      "(81, 100)\n",
      "[0. 1. 0. 0. 0. 0. 0. 0. 0. 0. 0. 0.]\n"
     ]
    }
   ],
   "source": [
    "print(d[0].shape)\n",
    "print(labels[0])\n"
   ]
  },
  {
   "cell_type": "code",
   "execution_count": 47,
   "metadata": {},
   "outputs": [],
   "source": [
    "from keras.models import Sequential\n",
    "from keras.layers import LSTM, Dense, Dropout"
   ]
  },
  {
   "cell_type": "code",
   "execution_count": 48,
   "metadata": {},
   "outputs": [],
   "source": [
    "import tensorflow as tf"
   ]
  },
  {
   "cell_type": "code",
   "execution_count": 49,
   "metadata": {},
   "outputs": [],
   "source": [
    "model = Sequential()\n",
    "model.add(LSTM(256, input_shape = (81, 100)))\n",
    "# model.add(Dense(1028))\n",
    "model.add(Dropout(0.2))\n",
    "model.add(Dense(128))\n",
    "model.add(Dropout(0.2))\n",
    "model.add(Dense(12, activation = 'softmax'))\n",
    "model.compile(optimizer = 'Adam', loss = 'mean_squared_error', metrics = ['accuracy'])"
   ]
  },
  {
   "cell_type": "code",
   "execution_count": 50,
   "metadata": {},
   "outputs": [
    {
     "name": "stdout",
     "output_type": "stream",
     "text": [
      "_________________________________________________________________\n",
      "Layer (type)                 Output Shape              Param #   \n",
      "=================================================================\n",
      "lstm_1 (LSTM)                (None, 256)               365568    \n",
      "_________________________________________________________________\n",
      "dropout_1 (Dropout)          (None, 256)               0         \n",
      "_________________________________________________________________\n",
      "dense_1 (Dense)              (None, 128)               32896     \n",
      "_________________________________________________________________\n",
      "dropout_2 (Dropout)          (None, 128)               0         \n",
      "_________________________________________________________________\n",
      "dense_2 (Dense)              (None, 12)                1548      \n",
      "=================================================================\n",
      "Total params: 400,012\n",
      "Trainable params: 400,012\n",
      "Non-trainable params: 0\n",
      "_________________________________________________________________\n"
     ]
    }
   ],
   "source": [
    "model.summary()"
   ]
  },
  {
   "cell_type": "code",
   "execution_count": 51,
   "metadata": {},
   "outputs": [
    {
     "name": "stdout",
     "output_type": "stream",
     "text": [
      "Epoch 1/10\n",
      "898/898 [==============================] - 5s 5ms/step - loss: 0.0886 - acc: 0.0167\n",
      "Epoch 2/10\n",
      "898/898 [==============================] - 3s 3ms/step - loss: 0.0708 - acc: 0.3396\n",
      "Epoch 3/10\n",
      "898/898 [==============================] - 3s 3ms/step - loss: 0.0603 - acc: 0.4989\n",
      "Epoch 4/10\n",
      "898/898 [==============================] - 3s 3ms/step - loss: 0.0437 - acc: 0.6492\n",
      "Epoch 5/10\n",
      "898/898 [==============================] - 3s 3ms/step - loss: 0.0482 - acc: 0.6091\n",
      "Epoch 6/10\n",
      "898/898 [==============================] - 3s 3ms/step - loss: 0.0422 - acc: 0.6503\n",
      "Epoch 7/10\n",
      "898/898 [==============================] - 3s 3ms/step - loss: 0.0434 - acc: 0.6002\n",
      "Epoch 8/10\n",
      "898/898 [==============================] - 3s 3ms/step - loss: 0.0414 - acc: 0.6470\n",
      "Epoch 9/10\n",
      "898/898 [==============================] - 3s 3ms/step - loss: 0.0372 - acc: 0.6904\n",
      "Epoch 10/10\n",
      "898/898 [==============================] - 3s 3ms/step - loss: 0.0393 - acc: 0.6626\n"
     ]
    },
    {
     "data": {
      "text/plain": [
       "<keras.callbacks.History at 0x7f260bf07748>"
      ]
     },
     "execution_count": 51,
     "metadata": {},
     "output_type": "execute_result"
    }
   ],
   "source": [
    "model.fit(d, labels, batch_size = 1024, epochs = 10)"
   ]
  },
  {
   "cell_type": "code",
   "execution_count": 69,
   "metadata": {},
   "outputs": [],
   "source": [
    "storage = './model/LSTM_model/'\n",
    "model_json = model.to_json()\n",
    "with open(storage + \"LSTM_model.json\", 'w') as json_file:\n",
    "    json_file.write(model_json)\n",
    "model.save_weights(storage + 'LSTM_model.h5')"
   ]
  },
  {
   "cell_type": "code",
   "execution_count": 95,
   "metadata": {},
   "outputs": [
    {
     "name": "stdout",
     "output_type": "stream",
     "text": [
      "<class 'numpy.ndarray'>\n",
      "[0. 1. 0. 0. 0. 0. 0. 0. 0. 0. 0. 0.]\n",
      "1\n",
      "[0. 1. 0. 0. 0. 0. 0. 0. 0. 0. 0. 0.]\n",
      "1\n",
      "[0. 0. 1. 0. 0. 0. 0. 0. 0. 0. 0. 0.]\n",
      "2\n",
      "[0. 1. 0. 0. 0. 0. 0. 0. 0. 0. 0. 0.]\n",
      "1\n",
      "[0. 1. 0. 0. 0. 0. 0. 0. 0. 0. 0. 0.]\n",
      "1\n",
      "[0. 0. 1. 0. 0. 0. 0. 0. 0. 0. 0. 0.]\n",
      "2\n",
      "[0. 0. 1. 0. 0. 0. 0. 0. 0. 0. 0. 0.]\n",
      "2\n",
      "[0. 1. 0. 0. 0. 0. 0. 0. 0. 0. 0. 0.]\n",
      "1\n",
      "[0. 0. 1. 0. 0. 0. 0. 0. 0. 0. 0. 0.]\n",
      "2\n",
      "[0. 1. 0. 0. 0. 0. 0. 0. 0. 0. 0. 0.]\n",
      "1\n"
     ]
    }
   ],
   "source": [
    "print(type(d[0]))\n",
    "d[0].shape\n",
    "for i in range(10):\n",
    "    print(labels[i])\n",
    "    print(np.argmax(labels[i]))"
   ]
  },
  {
   "cell_type": "code",
   "execution_count": 120,
   "metadata": {},
   "outputs": [
    {
     "name": "stderr",
     "output_type": "stream",
     "text": [
      "/home/nguyenminh/.local/lib/python3.5/site-packages/ipykernel_launcher.py:1: DeprecationWarning: This function is deprecated. Please call randint(0, 898 + 1) instead\n",
      "  \"\"\"Entry point for launching an IPython kernel.\n"
     ]
    },
    {
     "name": "stdout",
     "output_type": "stream",
     "text": [
      "y_label:  on y pred:  on\n",
      "y_label:  off y pred:  on\n",
      "y_label:  off y pred:  on\n",
      "y_label:  on y pred:  on\n",
      "y_label:  off y pred:  off\n",
      "y_label:  on y pred:  on\n",
      "y_label:  on y pred:  on\n",
      "y_label:  off y pred:  off\n",
      "y_label:  on y pred:  on\n",
      "y_label:  off y pred:  on\n",
      "y_label:  on y pred:  on\n",
      "y_label:  on y pred:  on\n",
      "y_label:  on y pred:  on\n",
      "y_label:  off y pred:  off\n",
      "y_label:  on y pred:  on\n",
      "y_label:  on y pred:  on\n",
      "y_label:  on y pred:  on\n",
      "y_label:  on y pred:  on\n",
      "y_label:  off y pred:  on\n",
      "y_label:  on y pred:  on\n",
      "y_label:  on y pred:  on\n",
      "y_label:  on y pred:  on\n",
      "y_label:  on y pred:  on\n",
      "y_label:  off y pred:  on\n",
      "y_label:  on y pred:  off\n",
      "y_label:  on y pred:  off\n",
      "y_label:  on y pred:  on\n",
      "y_label:  off y pred:  off\n",
      "y_label:  on y pred:  on\n",
      "y_label:  off y pred:  on\n",
      "y_label:  off y pred:  off\n",
      "y_label:  off y pred:  off\n",
      "y_label:  on y pred:  on\n",
      "y_label:  off y pred:  on\n",
      "y_label:  on y pred:  on\n",
      "y_label:  on y pred:  on\n",
      "y_label:  off y pred:  on\n",
      "y_label:  on y pred:  on\n",
      "y_label:  on y pred:  on\n",
      "y_label:  on y pred:  on\n",
      "y_label:  off y pred:  off\n",
      "y_label:  on y pred:  on\n",
      "y_label:  off y pred:  on\n",
      "y_label:  on y pred:  on\n",
      "y_label:  off y pred:  on\n",
      "y_label:  off y pred:  on\n",
      "y_label:  off y pred:  on\n",
      "y_label:  on y pred:  on\n",
      "y_label:  on y pred:  on\n",
      "y_label:  off y pred:  off\n",
      "y_label:  on y pred:  on\n",
      "y_label:  on y pred:  off\n",
      "y_label:  off y pred:  off\n",
      "y_label:  off y pred:  on\n",
      "y_label:  on y pred:  on\n",
      "y_label:  on y pred:  off\n",
      "y_label:  on y pred:  on\n",
      "y_label:  off y pred:  on\n",
      "y_label:  on y pred:  on\n",
      "y_label:  off y pred:  on\n",
      "y_label:  off y pred:  off\n",
      "y_label:  off y pred:  off\n",
      "y_label:  on y pred:  on\n",
      "y_label:  on y pred:  on\n",
      "y_label:  off y pred:  on\n",
      "y_label:  off y pred:  on\n",
      "y_label:  on y pred:  on\n",
      "y_label:  off y pred:  on\n",
      "y_label:  off y pred:  off\n",
      "y_label:  on y pred:  on\n",
      "y_label:  off y pred:  on\n",
      "y_label:  on y pred:  on\n",
      "y_label:  on y pred:  on\n",
      "y_label:  on y pred:  on\n",
      "y_label:  on y pred:  on\n",
      "y_label:  on y pred:  on\n",
      "y_label:  on y pred:  off\n",
      "y_label:  on y pred:  on\n",
      "y_label:  on y pred:  on\n",
      "y_label:  on y pred:  on\n",
      "y_label:  off y pred:  on\n",
      "y_label:  off y pred:  off\n",
      "y_label:  off y pred:  on\n",
      "y_label:  off y pred:  off\n",
      "y_label:  off y pred:  off\n",
      "y_label:  off y pred:  off\n",
      "y_label:  on y pred:  on\n",
      "y_label:  off y pred:  on\n",
      "y_label:  off y pred:  on\n",
      "y_label:  on y pred:  on\n",
      "y_label:  on y pred:  on\n",
      "y_label:  on y pred:  on\n",
      "y_label:  off y pred:  off\n",
      "y_label:  off y pred:  on\n",
      "y_label:  on y pred:  on\n",
      "y_label:  on y pred:  on\n",
      "y_label:  on y pred:  on\n",
      "y_label:  off y pred:  off\n",
      "y_label:  off y pred:  on\n",
      "y_label:  on y pred:  off\n"
     ]
    }
   ],
   "source": [
    "sample_pred = np.random.random_integers(0, d.shape[0], size = (100))\n",
    "\n",
    "def result(a):\n",
    "    if(a == 1 ):\n",
    "        return 'off'\n",
    "    elif ( a == 2):\n",
    "        return 'on'\n",
    "    else:\n",
    "        return 'unknow'\n",
    "\n",
    "for i in sample_pred:\n",
    "    y_pred = model.predict_classes(d[i].reshape((1, d.shape[1], d.shape[2])))\n",
    "    print('y_label: ', result(np.argmax(labels[i])), 'y pred: ', result(y_pred))"
   ]
  }
 ],
 "metadata": {
  "kernelspec": {
   "display_name": "Python 3",
   "language": "python",
   "name": "python3"
  },
  "language_info": {
   "codemirror_mode": {
    "name": "ipython",
    "version": 3
   },
   "file_extension": ".py",
   "mimetype": "text/x-python",
   "name": "python",
   "nbconvert_exporter": "python",
   "pygments_lexer": "ipython3",
   "version": "3.5.2"
  }
 },
 "nbformat": 4,
 "nbformat_minor": 2
}
